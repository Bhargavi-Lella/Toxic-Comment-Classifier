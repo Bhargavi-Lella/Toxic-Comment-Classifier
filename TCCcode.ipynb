{
 "cells": [
  {
   "cell_type": "code",
   "execution_count": null,
   "metadata": {
    "id": "VZrbCnXr4uv2"
   },
   "outputs": [],
   "source": [
    "import numpy as np # linear algebra\n",
    "import pandas as pd # data processing, CSV file I/O (e.g. pd.read_csv)\n",
    "import tensorflow as tf"
   ]
  },
  {
   "cell_type": "markdown",
   "metadata": {
    "id": "jgI0bxFS4_WL"
   },
   "source": [
    "Importing the Dataset"
   ]
  },
  {
   "cell_type": "code",
   "execution_count": null,
   "metadata": {
    "colab": {
     "base_uri": "https://localhost:8080/",
     "height": 203
    },
    "id": "PcAetj4Q6sYw",
    "outputId": "220b2734-515c-4b5a-9436-61c7d20042f5"
   },
   "outputs": [
    {
     "data": {
      "text/html": [
       "<div>\n",
       "<style scoped>\n",
       "    .dataframe tbody tr th:only-of-type {\n",
       "        vertical-align: middle;\n",
       "    }\n",
       "\n",
       "    .dataframe tbody tr th {\n",
       "        vertical-align: top;\n",
       "    }\n",
       "\n",
       "    .dataframe thead th {\n",
       "        text-align: right;\n",
       "    }\n",
       "</style>\n",
       "<table border=\"1\" class=\"dataframe\">\n",
       "  <thead>\n",
       "    <tr style=\"text-align: right;\">\n",
       "      <th></th>\n",
       "      <th>id</th>\n",
       "      <th>comment_text</th>\n",
       "    </tr>\n",
       "  </thead>\n",
       "  <tbody>\n",
       "    <tr>\n",
       "      <th>0</th>\n",
       "      <td>00001cee341fdb12</td>\n",
       "      <td>Yo bitch Ja Rule is more succesful then you'll...</td>\n",
       "    </tr>\n",
       "    <tr>\n",
       "      <th>1</th>\n",
       "      <td>0000247867823ef7</td>\n",
       "      <td>== From RfC == \\n\\n The title is fine as it is...</td>\n",
       "    </tr>\n",
       "    <tr>\n",
       "      <th>2</th>\n",
       "      <td>00013b17ad220c46</td>\n",
       "      <td>\" \\n\\n == Sources == \\n\\n * Zawe Ashton on Lap...</td>\n",
       "    </tr>\n",
       "    <tr>\n",
       "      <th>3</th>\n",
       "      <td>00017563c3f7919a</td>\n",
       "      <td>:If you have a look back at the source, the in...</td>\n",
       "    </tr>\n",
       "    <tr>\n",
       "      <th>4</th>\n",
       "      <td>00017695ad8997eb</td>\n",
       "      <td>I don't anonymously edit articles at all.</td>\n",
       "    </tr>\n",
       "  </tbody>\n",
       "</table>\n",
       "</div>"
      ],
      "text/plain": [
       "                 id                                       comment_text\n",
       "0  00001cee341fdb12  Yo bitch Ja Rule is more succesful then you'll...\n",
       "1  0000247867823ef7  == From RfC == \\n\\n The title is fine as it is...\n",
       "2  00013b17ad220c46  \" \\n\\n == Sources == \\n\\n * Zawe Ashton on Lap...\n",
       "3  00017563c3f7919a  :If you have a look back at the source, the in...\n",
       "4  00017695ad8997eb          I don't anonymously edit articles at all."
      ]
     },
     "execution_count": 4,
     "metadata": {
      "tags": []
     },
     "output_type": "execute_result"
    }
   ],
   "source": [
    "test_df = pd.read_csv('test.csv')\n",
    "test_df.head()"
   ]
  },
  {
   "cell_type": "code",
   "execution_count": null,
   "metadata": {
    "colab": {
     "base_uri": "https://localhost:8080/",
     "height": 203
    },
    "id": "lQzDNe0aAYc5",
    "outputId": "657e9caa-90e2-446f-cf20-58787537d20c"
   },
   "outputs": [
    {
     "data": {
      "text/html": [
       "<div>\n",
       "<style scoped>\n",
       "    .dataframe tbody tr th:only-of-type {\n",
       "        vertical-align: middle;\n",
       "    }\n",
       "\n",
       "    .dataframe tbody tr th {\n",
       "        vertical-align: top;\n",
       "    }\n",
       "\n",
       "    .dataframe thead th {\n",
       "        text-align: right;\n",
       "    }\n",
       "</style>\n",
       "<table border=\"1\" class=\"dataframe\">\n",
       "  <thead>\n",
       "    <tr style=\"text-align: right;\">\n",
       "      <th></th>\n",
       "      <th>id</th>\n",
       "      <th>comment_text</th>\n",
       "      <th>toxic</th>\n",
       "      <th>severe_toxic</th>\n",
       "      <th>obscene</th>\n",
       "      <th>threat</th>\n",
       "      <th>insult</th>\n",
       "      <th>identity_hate</th>\n",
       "    </tr>\n",
       "  </thead>\n",
       "  <tbody>\n",
       "    <tr>\n",
       "      <th>0</th>\n",
       "      <td>0000997932d777bf</td>\n",
       "      <td>Explanation\\nWhy the edits made under my usern...</td>\n",
       "      <td>0</td>\n",
       "      <td>0</td>\n",
       "      <td>0</td>\n",
       "      <td>0</td>\n",
       "      <td>0</td>\n",
       "      <td>0</td>\n",
       "    </tr>\n",
       "    <tr>\n",
       "      <th>1</th>\n",
       "      <td>000103f0d9cfb60f</td>\n",
       "      <td>D'aww! He matches this background colour I'm s...</td>\n",
       "      <td>0</td>\n",
       "      <td>0</td>\n",
       "      <td>0</td>\n",
       "      <td>0</td>\n",
       "      <td>0</td>\n",
       "      <td>0</td>\n",
       "    </tr>\n",
       "    <tr>\n",
       "      <th>2</th>\n",
       "      <td>000113f07ec002fd</td>\n",
       "      <td>Hey man, I'm really not trying to edit war. It...</td>\n",
       "      <td>0</td>\n",
       "      <td>0</td>\n",
       "      <td>0</td>\n",
       "      <td>0</td>\n",
       "      <td>0</td>\n",
       "      <td>0</td>\n",
       "    </tr>\n",
       "    <tr>\n",
       "      <th>3</th>\n",
       "      <td>0001b41b1c6bb37e</td>\n",
       "      <td>\"\\nMore\\nI can't make any real suggestions on ...</td>\n",
       "      <td>0</td>\n",
       "      <td>0</td>\n",
       "      <td>0</td>\n",
       "      <td>0</td>\n",
       "      <td>0</td>\n",
       "      <td>0</td>\n",
       "    </tr>\n",
       "    <tr>\n",
       "      <th>4</th>\n",
       "      <td>0001d958c54c6e35</td>\n",
       "      <td>You, sir, are my hero. Any chance you remember...</td>\n",
       "      <td>0</td>\n",
       "      <td>0</td>\n",
       "      <td>0</td>\n",
       "      <td>0</td>\n",
       "      <td>0</td>\n",
       "      <td>0</td>\n",
       "    </tr>\n",
       "  </tbody>\n",
       "</table>\n",
       "</div>"
      ],
      "text/plain": [
       "                 id  ... identity_hate\n",
       "0  0000997932d777bf  ...             0\n",
       "1  000103f0d9cfb60f  ...             0\n",
       "2  000113f07ec002fd  ...             0\n",
       "3  0001b41b1c6bb37e  ...             0\n",
       "4  0001d958c54c6e35  ...             0\n",
       "\n",
       "[5 rows x 8 columns]"
      ]
     },
     "execution_count": 5,
     "metadata": {
      "tags": []
     },
     "output_type": "execute_result"
    }
   ],
   "source": [
    "train_df = pd.read_csv('train.csv')\n",
    "train_df.head()"
   ]
  },
  {
   "cell_type": "code",
   "execution_count": null,
   "metadata": {
    "colab": {
     "base_uri": "https://localhost:8080/"
    },
    "id": "dPJqnZbeCsez",
    "outputId": "692cf128-f6b9-4be7-da5d-1f83d875f16e"
   },
   "outputs": [
    {
     "data": {
      "text/plain": [
       "(159571, 8)"
      ]
     },
     "execution_count": 6,
     "metadata": {
      "tags": []
     },
     "output_type": "execute_result"
    }
   ],
   "source": [
    "train_df.shape"
   ]
  },
  {
   "cell_type": "code",
   "execution_count": null,
   "metadata": {
    "colab": {
     "base_uri": "https://localhost:8080/",
     "height": 102
    },
    "id": "gv43T3pFGWzz",
    "outputId": "166092ab-ffaf-4265-d198-360e9f3eb963"
   },
   "outputs": [
    {
     "data": {
      "application/vnd.google.colaboratory.intrinsic+json": {
       "type": "string"
      },
      "text/plain": [
       "'\"\\nMore\\nI can\\'t make any real suggestions on improvement - I wondered if the section statistics should be later on, or a subsection of \"\"types of accidents\"\"  -I think the references may need tidying so that they are all in the exact same format ie date format etc. I can do that later on, if no-one else does first - if you have any preferences for formatting style on references or want to do it yourself please let me know.\\n\\nThere appears to be a backlog on articles for review so I guess there may be a delay until a reviewer turns up. It\\'s listed in the relevant form eg Wikipedia:Good_article_nominations#Transport  \"'"
      ]
     },
     "execution_count": 7,
     "metadata": {
      "tags": []
     },
     "output_type": "execute_result"
    }
   ],
   "source": [
    "train_df.loc[3,'comment_text']"
   ]
  },
  {
   "cell_type": "code",
   "execution_count": null,
   "metadata": {
    "colab": {
     "base_uri": "https://localhost:8080/"
    },
    "id": "gjvB7BlQGbDc",
    "outputId": "05b90e88-f2f6-49af-db8d-271a90e76555"
   },
   "outputs": [
    {
     "data": {
      "text/plain": [
       "id               143346\n",
       "comment_text     143346\n",
       "toxic            143346\n",
       "severe_toxic     143346\n",
       "obscene          143346\n",
       "threat           143346\n",
       "insult           143346\n",
       "identity_hate    143346\n",
       "dtype: int64"
      ]
     },
     "execution_count": 8,
     "metadata": {
      "tags": []
     },
     "output_type": "execute_result"
    }
   ],
   "source": [
    "train_df[(train_df['toxic']==0) & (train_df['severe_toxic']==0) & (train_df['obscene']==0) & (train_df['threat']==0) & \n",
    "          (train_df['insult']==0) & (train_df['identity_hate']==0)].count()"
   ]
  },
  {
   "cell_type": "code",
   "execution_count": null,
   "metadata": {
    "id": "UEcZsOfmGxSO"
   },
   "outputs": [],
   "source": [
    "APPO = {\n",
    "\"aren't\" : \"are not\",\n",
    "\"can't\" : \"cannot\",\n",
    "\"couldn't\" : \"could not\",\n",
    "\"didn't\" : \"did not\",\n",
    "\"doesn't\" : \"does not\",\n",
    "\"don't\" : \"do not\",\n",
    "\"hadn't\" : \"had not\",\n",
    "\"hasn't\" : \"has not\",\n",
    "\"haven't\" : \"have not\",\n",
    "\"he'd\" : \"he would\",\n",
    "\"he'll\" : \"he will\",\n",
    "\"he's\" : \"he is\",\n",
    "\"i'd\" : \"I would\",\n",
    "\"i'd\" : \"I had\",\n",
    "\"i'll\" : \"I will\",\n",
    "\"i'm\" : \"I am\",\n",
    "\"isn't\" : \"is not\",\n",
    "\"it's\" : \"it is\",\n",
    "\"it'll\":\"it will\",\n",
    "\"i've\" : \"I have\",\n",
    "\"let's\" : \"let us\",\n",
    "\"mightn't\" : \"might not\",\n",
    "\"mustn't\" : \"must not\",\n",
    "\"shan't\" : \"shall not\",\n",
    "\"she'd\" : \"she would\",\n",
    "\"she'll\" : \"she will\",\n",
    "\"she's\" : \"she is\",\n",
    "\"shouldn't\" : \"should not\",\n",
    "\"that's\" : \"that is\",\n",
    "\"there's\" : \"there is\",\n",
    "\"they'd\" : \"they would\",\n",
    "\"they'll\" : \"they will\",\n",
    "\"they're\" : \"they are\",\n",
    "\"they've\" : \"they have\",\n",
    "\"we'd\" : \"we would\",\n",
    "\"we're\" : \"we are\",\n",
    "\"weren't\" : \"were not\",\n",
    "\"we've\" : \"we have\",\n",
    "\"what'll\" : \"what will\",\n",
    "\"what're\" : \"what are\",\n",
    "\"what's\" : \"what is\",\n",
    "\"what've\" : \"what have\",\n",
    "\"where's\" : \"where is\",\n",
    "\"who'd\" : \"who would\",\n",
    "\"who'll\" : \"who will\",\n",
    "\"who're\" : \"who are\",\n",
    "\"who's\" : \"who is\",\n",
    "\"who've\" : \"who have\",\n",
    "\"won't\" : \"will not\",\n",
    "\"wouldn't\" : \"would not\",\n",
    "\"you'd\" : \"you would\",\n",
    "\"you'll\" : \"you will\",\n",
    "\"you're\" : \"you are\",\n",
    "\"you've\" : \"you have\",\n",
    "\"'re\": \" are\",\n",
    "\"wasn't\": \"was not\",\n",
    "\"we'll\":\" will\",\n",
    "\"didn't\": \"did not\",\n",
    "\"tryin'\":\"trying\"\n",
    "}"
   ]
  },
  {
   "cell_type": "code",
   "execution_count": null,
   "metadata": {
    "id": "tJtzOi97G_CG"
   },
   "outputs": [],
   "source": [
    "import re\n",
    "def clean_text(text):\n",
    "    \n",
    "    text = text.lower()\n",
    "    text = re.sub(r'http[s]?://(?:[a-z]|[0-9]|[$-_@.&+]|[!*\\(\\),]|(?:%[0-9a-f][0-9a-f]))+', '', text) # clean url\n",
    "    text = re.sub(r'#(\\w+)', '', text)   # clean hashes\n",
    "    text = re.sub(r'@(\\w+)', '', text)   # clean @\n",
    "    text = re.sub(r'<[^>]+>', '', text)  # clean tags\n",
    "    text = re.sub(r'\\d+', '', text)      # clean digits\n",
    "    text = re.sub(r'[,!@\\'\\\"?\\.$%_&#*+-:;]', '', text)   # clean punctuation\n",
    "    text = [APPO[word] if word in APPO else word for word in text.split()]  #\n",
    "    \n",
    "    return text"
   ]
  },
  {
   "cell_type": "code",
   "execution_count": null,
   "metadata": {
    "id": "RnFP51jOLiYM"
   },
   "outputs": [],
   "source": [
    "train_df['comment_text'] = train_df['comment_text'].apply(clean_text)\n",
    "test_df['comment_text'] = test_df['comment_text'].apply(clean_text)"
   ]
  },
  {
   "cell_type": "code",
   "execution_count": null,
   "metadata": {
    "id": "F0ghJLvSLi6F"
   },
   "outputs": [],
   "source": [
    "from sklearn.model_selection import train_test_split\n",
    "train_set, val_set = train_test_split(train_df, test_size = 0.2, random_state=11)"
   ]
  },
  {
   "cell_type": "code",
   "execution_count": null,
   "metadata": {
    "id": "29YEYL6wLsUo"
   },
   "outputs": [],
   "source": [
    "from tensorflow.keras.preprocessing.text import Tokenizer\n",
    "tokenizer = Tokenizer(num_words = 20000, oov_token='<oov>')\n",
    "tokenizer.fit_on_texts(train_df.comment_text)"
   ]
  },
  {
   "cell_type": "code",
   "execution_count": null,
   "metadata": {
    "id": "pADwbJ_cLw-c"
   },
   "outputs": [],
   "source": [
    "traning_sequences = tokenizer.texts_to_sequences(train_set.comment_text)"
   ]
  },
  {
   "cell_type": "code",
   "execution_count": null,
   "metadata": {
    "colab": {
     "base_uri": "https://localhost:8080/"
    },
    "id": "dIJx58wsLxa8",
    "outputId": "fb1f922f-b15d-463c-aad2-cd467d08e2ac"
   },
   "outputs": [
    {
     "name": "stderr",
     "output_type": "stream",
     "text": [
      "/usr/local/lib/python3.7/dist-packages/ipykernel_launcher.py:1: VisibleDeprecationWarning: Creating an ndarray from ragged nested sequences (which is a list-or-tuple of lists-or-tuples-or ndarrays with different lengths or shapes) is deprecated. If you meant to do this, you must specify 'dtype=object' when creating the ndarray\n",
      "  \"\"\"Entry point for launching an IPython kernel.\n"
     ]
    }
   ],
   "source": [
    "maxlen = max([len(x) for x in np.array(traning_sequences)])"
   ]
  },
  {
   "cell_type": "code",
   "execution_count": null,
   "metadata": {
    "id": "LdiPQkG0MKpy"
   },
   "outputs": [],
   "source": [
    "from tensorflow.keras.preprocessing.sequence import pad_sequences"
   ]
  },
  {
   "cell_type": "code",
   "execution_count": null,
   "metadata": {
    "id": "akifFzPrMNzY"
   },
   "outputs": [],
   "source": [
    "training_padded = pad_sequences(traning_sequences, maxlen = 500,\n",
    "                                padding = 'pre',\n",
    "                                truncating='pre')\n",
    "train_y = np.array(train_set.loc[:,'toxic':])"
   ]
  },
  {
   "cell_type": "code",
   "execution_count": null,
   "metadata": {
    "id": "dPNNMQaRMPkH"
   },
   "outputs": [],
   "source": [
    "traning_sequences = tokenizer.texts_to_sequences(val_set.comment_text)\n",
    "val_padded = pad_sequences(traning_sequences,maxlen = 500,\n",
    "                                padding = 'pre',\n",
    "                                truncating='pre')\n",
    "val_y = np.array(val_set.loc[:,'toxic':])"
   ]
  },
  {
   "cell_type": "code",
   "execution_count": null,
   "metadata": {
    "id": "8EilPpoaMRel"
   },
   "outputs": [],
   "source": [
    "traning_sequences = tokenizer.texts_to_sequences(train_df.comment_text)\n",
    "training_padded = pad_sequences(traning_sequences, maxlen = 500,\n",
    "                                padding = 'pre',\n",
    "                                truncating='pre')\n",
    "train_y = np.array(train_df.loc[:,'toxic':])"
   ]
  },
  {
   "cell_type": "code",
   "execution_count": null,
   "metadata": {
    "id": "AylbHdJdZjXS"
   },
   "outputs": [],
   "source": [
    "from keras.layers import Input, Dense, LSTM, Embedding, Dropout,GlobalMaxPooling1D\n",
    "from keras.models import Model\n",
    "\n",
    "inputLayer = Input(shape=500)\n",
    "embedLayer = Embedding(input_dim=20000, output_dim=128)(inputLayer)\n",
    "lstmLayer = LSTM(units=60, return_sequences=True)(embedLayer)\n",
    "maxPool = GlobalMaxPooling1D()(lstmLayer)\n",
    "dropOut1 = Dropout(0.1)(maxPool)\n",
    "fcLayer1 = Dense(units=50, activation='relu')(dropOut1)\n",
    "dropOut2 = Dropout(0.1)(fcLayer1)\n",
    "fcLayer2 = Dense(units=6, activation='sigmoid')(dropOut2)\n",
    "\n",
    "model = Model(inputs=inputLayer, outputs=fcLayer2)\n",
    "model.compile(loss='binary_crossentropy', optimizer='adam', metrics=['accuracy'])"
   ]
  },
  {
   "cell_type": "code",
   "execution_count": null,
   "metadata": {
    "colab": {
     "base_uri": "https://localhost:8080/"
    },
    "id": "TxsL0yf_feHi",
    "outputId": "13810b8c-020d-4dfe-d39e-e8e2065ccabf"
   },
   "outputs": [
    {
     "name": "stdout",
     "output_type": "stream",
     "text": [
      "Epoch 1/2\n",
      "4987/4987 [==============================] - 1699s 337ms/step - loss: 0.1064 - accuracy: 0.8434\n",
      "Epoch 2/2\n",
      "4987/4987 [==============================] - 1694s 340ms/step - loss: 0.0453 - accuracy: 0.9847\n"
     ]
    },
    {
     "data": {
      "text/plain": [
       "<keras.callbacks.History at 0x7ff431c7d490>"
      ]
     },
     "execution_count": 21,
     "metadata": {
      "tags": []
     },
     "output_type": "execute_result"
    }
   ],
   "source": [
    "model.fit(training_padded, train_y, batch_size=32, epochs=2)"
   ]
  },
  {
   "cell_type": "code",
   "execution_count": null,
   "metadata": {
    "id": "b4L1DwrxMacC"
   },
   "outputs": [],
   "source": [
    "testing_sequences = tokenizer.texts_to_sequences(test_df.comment_text)\n",
    "test_padded = pad_sequences(testing_sequences, maxlen = 500,\n",
    "                                padding = 'pre',\n",
    "                                truncating='pre')"
   ]
  },
  {
   "cell_type": "code",
   "execution_count": null,
   "metadata": {
    "colab": {
     "base_uri": "https://localhost:8080/"
    },
    "id": "1iAFzmqos0vD",
    "outputId": "15369410-f90d-44e2-d9cb-96b2db9146fb"
   },
   "outputs": [
    {
     "name": "stderr",
     "output_type": "stream",
     "text": [
      "/usr/local/lib/python3.7/dist-packages/ipykernel_launcher.py:2: FutureWarning: Support for multi-dimensional indexing (e.g. `obj[:, None]`) is deprecated and will be removed in a future version.  Convert to a numpy array before indexing instead.\n",
      "  \n"
     ]
    }
   ],
   "source": [
    "predicted = model.predict(test_padded, batch_size = 500)\n",
    "predict = np.hstack((test_df.id[:, np.newaxis], predicted))"
   ]
  },
  {
   "cell_type": "code",
   "execution_count": null,
   "metadata": {
    "id": "L_s0Xo5JyKKE"
   },
   "outputs": [],
   "source": [
    "subm = pd.DataFrame(predict, columns = ['id', 'toxic', 'severe_toxic', 'obscene', 'threat', 'insult', 'identity_hate'])\n",
    "subm.to_csv('subm.csv', index = False)"
   ]
  },
  {
   "cell_type": "code",
   "execution_count": null,
   "metadata": {
    "colab": {
     "base_uri": "https://localhost:8080/",
     "height": 935
    },
    "id": "c5IBsoGxyU7M",
    "outputId": "c206b727-15a5-4063-967e-30a02f134674"
   },
   "outputs": [
    {
     "data": {
      "text/html": [
       "<div>\n",
       "<style scoped>\n",
       "    .dataframe tbody tr th:only-of-type {\n",
       "        vertical-align: middle;\n",
       "    }\n",
       "\n",
       "    .dataframe tbody tr th {\n",
       "        vertical-align: top;\n",
       "    }\n",
       "\n",
       "    .dataframe thead th {\n",
       "        text-align: right;\n",
       "    }\n",
       "</style>\n",
       "<table border=\"1\" class=\"dataframe\">\n",
       "  <thead>\n",
       "    <tr style=\"text-align: right;\">\n",
       "      <th></th>\n",
       "      <th>id</th>\n",
       "      <th>toxic</th>\n",
       "      <th>severe_toxic</th>\n",
       "      <th>obscene</th>\n",
       "      <th>threat</th>\n",
       "      <th>insult</th>\n",
       "      <th>identity_hate</th>\n",
       "    </tr>\n",
       "  </thead>\n",
       "  <tbody>\n",
       "    <tr>\n",
       "      <th>0</th>\n",
       "      <td>00001cee341fdb12</td>\n",
       "      <td>0.997188</td>\n",
       "      <td>0.425211</td>\n",
       "      <td>0.963103</td>\n",
       "      <td>0.0808738</td>\n",
       "      <td>0.849878</td>\n",
       "      <td>0.160038</td>\n",
       "    </tr>\n",
       "    <tr>\n",
       "      <th>1</th>\n",
       "      <td>0000247867823ef7</td>\n",
       "      <td>0.000264645</td>\n",
       "      <td>1.28712e-07</td>\n",
       "      <td>4.38777e-05</td>\n",
       "      <td>1.15841e-06</td>\n",
       "      <td>1.00276e-05</td>\n",
       "      <td>8.77993e-06</td>\n",
       "    </tr>\n",
       "    <tr>\n",
       "      <th>2</th>\n",
       "      <td>00013b17ad220c46</td>\n",
       "      <td>0.0137195</td>\n",
       "      <td>2.48054e-05</td>\n",
       "      <td>0.00233132</td>\n",
       "      <td>0.000164896</td>\n",
       "      <td>0.00116399</td>\n",
       "      <td>0.000704795</td>\n",
       "    </tr>\n",
       "    <tr>\n",
       "      <th>3</th>\n",
       "      <td>00017563c3f7919a</td>\n",
       "      <td>0.000160038</td>\n",
       "      <td>4.53707e-08</td>\n",
       "      <td>1.66159e-05</td>\n",
       "      <td>3.51953e-07</td>\n",
       "      <td>4.50043e-06</td>\n",
       "      <td>5.95592e-06</td>\n",
       "    </tr>\n",
       "    <tr>\n",
       "      <th>4</th>\n",
       "      <td>00017695ad8997eb</td>\n",
       "      <td>0.00120032</td>\n",
       "      <td>9.91246e-07</td>\n",
       "      <td>0.000191242</td>\n",
       "      <td>7.71811e-06</td>\n",
       "      <td>6.1099e-05</td>\n",
       "      <td>4.6427e-05</td>\n",
       "    </tr>\n",
       "    <tr>\n",
       "      <th>5</th>\n",
       "      <td>0001ea8717f6de06</td>\n",
       "      <td>0.000424773</td>\n",
       "      <td>1.86434e-07</td>\n",
       "      <td>5.78309e-05</td>\n",
       "      <td>1.61712e-06</td>\n",
       "      <td>1.66623e-05</td>\n",
       "      <td>1.40776e-05</td>\n",
       "    </tr>\n",
       "    <tr>\n",
       "      <th>6</th>\n",
       "      <td>00024115d4cbde0f</td>\n",
       "      <td>0.000202745</td>\n",
       "      <td>5.46887e-08</td>\n",
       "      <td>2.06676e-05</td>\n",
       "      <td>3.90167e-07</td>\n",
       "      <td>5.81985e-06</td>\n",
       "      <td>6.85661e-06</td>\n",
       "    </tr>\n",
       "    <tr>\n",
       "      <th>7</th>\n",
       "      <td>000247e83dcc1211</td>\n",
       "      <td>0.571809</td>\n",
       "      <td>0.00906858</td>\n",
       "      <td>0.152236</td>\n",
       "      <td>0.0198196</td>\n",
       "      <td>0.142368</td>\n",
       "      <td>0.0384761</td>\n",
       "    </tr>\n",
       "    <tr>\n",
       "      <th>8</th>\n",
       "      <td>00025358d4737918</td>\n",
       "      <td>0.0821373</td>\n",
       "      <td>5.53705e-05</td>\n",
       "      <td>0.00393304</td>\n",
       "      <td>0.000299871</td>\n",
       "      <td>0.00877222</td>\n",
       "      <td>0.00455832</td>\n",
       "    </tr>\n",
       "    <tr>\n",
       "      <th>9</th>\n",
       "      <td>00026d1092fe71cc</td>\n",
       "      <td>0.000143707</td>\n",
       "      <td>6.77048e-08</td>\n",
       "      <td>1.91838e-05</td>\n",
       "      <td>4.50107e-07</td>\n",
       "      <td>4.344e-06</td>\n",
       "      <td>6.44575e-06</td>\n",
       "    </tr>\n",
       "    <tr>\n",
       "      <th>10</th>\n",
       "      <td>0002eadc3b301559</td>\n",
       "      <td>0.298766</td>\n",
       "      <td>0.00100908</td>\n",
       "      <td>0.0918223</td>\n",
       "      <td>0.00174665</td>\n",
       "      <td>0.0287261</td>\n",
       "      <td>0.00652909</td>\n",
       "    </tr>\n",
       "    <tr>\n",
       "      <th>11</th>\n",
       "      <td>0002f87b16116a7f</td>\n",
       "      <td>0.0312698</td>\n",
       "      <td>6.45202e-05</td>\n",
       "      <td>0.00745755</td>\n",
       "      <td>0.000140011</td>\n",
       "      <td>0.00252262</td>\n",
       "      <td>0.00155362</td>\n",
       "    </tr>\n",
       "    <tr>\n",
       "      <th>12</th>\n",
       "      <td>0003806b11932181</td>\n",
       "      <td>9.9152e-05</td>\n",
       "      <td>2.50353e-08</td>\n",
       "      <td>1.03566e-05</td>\n",
       "      <td>1.78926e-07</td>\n",
       "      <td>2.49194e-06</td>\n",
       "      <td>3.44524e-06</td>\n",
       "    </tr>\n",
       "    <tr>\n",
       "      <th>13</th>\n",
       "      <td>0003e1cccfd5a40a</td>\n",
       "      <td>0.000118675</td>\n",
       "      <td>5.48548e-08</td>\n",
       "      <td>1.51102e-05</td>\n",
       "      <td>2.98693e-07</td>\n",
       "      <td>3.47371e-06</td>\n",
       "      <td>5.54809e-06</td>\n",
       "    </tr>\n",
       "    <tr>\n",
       "      <th>14</th>\n",
       "      <td>00059ace3e3e9a53</td>\n",
       "      <td>2.76561e-05</td>\n",
       "      <td>6.91588e-09</td>\n",
       "      <td>3.64468e-06</td>\n",
       "      <td>5.12913e-08</td>\n",
       "      <td>5.62403e-07</td>\n",
       "      <td>1.03608e-06</td>\n",
       "    </tr>\n",
       "    <tr>\n",
       "      <th>15</th>\n",
       "      <td>000634272d0d44eb</td>\n",
       "      <td>0.0070346</td>\n",
       "      <td>5.95242e-06</td>\n",
       "      <td>0.000946492</td>\n",
       "      <td>3.26773e-05</td>\n",
       "      <td>0.000460267</td>\n",
       "      <td>0.000299215</td>\n",
       "    </tr>\n",
       "    <tr>\n",
       "      <th>16</th>\n",
       "      <td>000663aff0fffc80</td>\n",
       "      <td>0.00235963</td>\n",
       "      <td>2.47924e-06</td>\n",
       "      <td>0.000405788</td>\n",
       "      <td>2.11047e-05</td>\n",
       "      <td>0.000124782</td>\n",
       "      <td>8.22767e-05</td>\n",
       "    </tr>\n",
       "    <tr>\n",
       "      <th>17</th>\n",
       "      <td>000689dd34e20979</td>\n",
       "      <td>0.00130594</td>\n",
       "      <td>6.35469e-07</td>\n",
       "      <td>0.000163108</td>\n",
       "      <td>4.41262e-06</td>\n",
       "      <td>5.52357e-05</td>\n",
       "      <td>4.51629e-05</td>\n",
       "    </tr>\n",
       "    <tr>\n",
       "      <th>18</th>\n",
       "      <td>000834769115370c</td>\n",
       "      <td>0.000243545</td>\n",
       "      <td>6.9774e-08</td>\n",
       "      <td>3.27713e-05</td>\n",
       "      <td>4.54712e-07</td>\n",
       "      <td>6.91348e-06</td>\n",
       "      <td>8.01229e-06</td>\n",
       "    </tr>\n",
       "    <tr>\n",
       "      <th>19</th>\n",
       "      <td>000844b52dee5f3f</td>\n",
       "      <td>0.00655249</td>\n",
       "      <td>1.1598e-05</td>\n",
       "      <td>0.00134611</td>\n",
       "      <td>7.48407e-05</td>\n",
       "      <td>0.000480592</td>\n",
       "      <td>0.000288814</td>\n",
       "    </tr>\n",
       "    <tr>\n",
       "      <th>20</th>\n",
       "      <td>00084da5d4ead7aa</td>\n",
       "      <td>0.0313383</td>\n",
       "      <td>8.95042e-05</td>\n",
       "      <td>0.0056563</td>\n",
       "      <td>0.000484645</td>\n",
       "      <td>0.00319803</td>\n",
       "      <td>0.00174883</td>\n",
       "    </tr>\n",
       "    <tr>\n",
       "      <th>21</th>\n",
       "      <td>00091c35fa9d0465</td>\n",
       "      <td>0.0557198</td>\n",
       "      <td>0.000105019</td>\n",
       "      <td>0.00744906</td>\n",
       "      <td>0.000395477</td>\n",
       "      <td>0.0057275</td>\n",
       "      <td>0.00333503</td>\n",
       "    </tr>\n",
       "    <tr>\n",
       "      <th>22</th>\n",
       "      <td>000968ce11f5ee34</td>\n",
       "      <td>0.0856016</td>\n",
       "      <td>0.000196218</td>\n",
       "      <td>0.00821081</td>\n",
       "      <td>0.000917375</td>\n",
       "      <td>0.0112788</td>\n",
       "      <td>0.00636089</td>\n",
       "    </tr>\n",
       "    <tr>\n",
       "      <th>23</th>\n",
       "      <td>0009734200a85047</td>\n",
       "      <td>0.000207722</td>\n",
       "      <td>1.49098e-07</td>\n",
       "      <td>2.69753e-05</td>\n",
       "      <td>9.55886e-07</td>\n",
       "      <td>7.95957e-06</td>\n",
       "      <td>1.19982e-05</td>\n",
       "    </tr>\n",
       "    <tr>\n",
       "      <th>24</th>\n",
       "      <td>00097b6214686db5</td>\n",
       "      <td>0.12135</td>\n",
       "      <td>0.000328302</td>\n",
       "      <td>0.011212</td>\n",
       "      <td>0.00149819</td>\n",
       "      <td>0.0168875</td>\n",
       "      <td>0.00805178</td>\n",
       "    </tr>\n",
       "    <tr>\n",
       "      <th>25</th>\n",
       "      <td>0009aef4bd9e1697</td>\n",
       "      <td>0.0022701</td>\n",
       "      <td>2.09173e-06</td>\n",
       "      <td>0.000237644</td>\n",
       "      <td>8.94703e-06</td>\n",
       "      <td>0.000126094</td>\n",
       "      <td>0.000154257</td>\n",
       "    </tr>\n",
       "    <tr>\n",
       "      <th>26</th>\n",
       "      <td>000a02d807ae0254</td>\n",
       "      <td>0.00550386</td>\n",
       "      <td>5.10095e-06</td>\n",
       "      <td>0.000780374</td>\n",
       "      <td>3.02484e-05</td>\n",
       "      <td>0.000348091</td>\n",
       "      <td>0.000238597</td>\n",
       "    </tr>\n",
       "    <tr>\n",
       "      <th>27</th>\n",
       "      <td>000a6c6d4e89b9bc</td>\n",
       "      <td>0.00745076</td>\n",
       "      <td>1.32661e-05</td>\n",
       "      <td>0.00143376</td>\n",
       "      <td>8.74282e-05</td>\n",
       "      <td>0.000559688</td>\n",
       "      <td>0.000360817</td>\n",
       "    </tr>\n",
       "    <tr>\n",
       "      <th>28</th>\n",
       "      <td>000bafe2080bba82</td>\n",
       "      <td>0.364515</td>\n",
       "      <td>0.00591308</td>\n",
       "      <td>0.0522071</td>\n",
       "      <td>0.0233197</td>\n",
       "      <td>0.134376</td>\n",
       "      <td>0.0655603</td>\n",
       "    </tr>\n",
       "    <tr>\n",
       "      <th>29</th>\n",
       "      <td>000bf0a9894b2807</td>\n",
       "      <td>0.000282198</td>\n",
       "      <td>2.43715e-07</td>\n",
       "      <td>4.27632e-05</td>\n",
       "      <td>1.32246e-06</td>\n",
       "      <td>1.1205e-05</td>\n",
       "      <td>1.65722e-05</td>\n",
       "    </tr>\n",
       "  </tbody>\n",
       "</table>\n",
       "</div>"
      ],
      "text/plain": [
       "                  id        toxic  ...       insult identity_hate\n",
       "0   00001cee341fdb12     0.997188  ...     0.849878      0.160038\n",
       "1   0000247867823ef7  0.000264645  ...  1.00276e-05   8.77993e-06\n",
       "2   00013b17ad220c46    0.0137195  ...   0.00116399   0.000704795\n",
       "3   00017563c3f7919a  0.000160038  ...  4.50043e-06   5.95592e-06\n",
       "4   00017695ad8997eb   0.00120032  ...   6.1099e-05    4.6427e-05\n",
       "5   0001ea8717f6de06  0.000424773  ...  1.66623e-05   1.40776e-05\n",
       "6   00024115d4cbde0f  0.000202745  ...  5.81985e-06   6.85661e-06\n",
       "7   000247e83dcc1211     0.571809  ...     0.142368     0.0384761\n",
       "8   00025358d4737918    0.0821373  ...   0.00877222    0.00455832\n",
       "9   00026d1092fe71cc  0.000143707  ...    4.344e-06   6.44575e-06\n",
       "10  0002eadc3b301559     0.298766  ...    0.0287261    0.00652909\n",
       "11  0002f87b16116a7f    0.0312698  ...   0.00252262    0.00155362\n",
       "12  0003806b11932181   9.9152e-05  ...  2.49194e-06   3.44524e-06\n",
       "13  0003e1cccfd5a40a  0.000118675  ...  3.47371e-06   5.54809e-06\n",
       "14  00059ace3e3e9a53  2.76561e-05  ...  5.62403e-07   1.03608e-06\n",
       "15  000634272d0d44eb    0.0070346  ...  0.000460267   0.000299215\n",
       "16  000663aff0fffc80   0.00235963  ...  0.000124782   8.22767e-05\n",
       "17  000689dd34e20979   0.00130594  ...  5.52357e-05   4.51629e-05\n",
       "18  000834769115370c  0.000243545  ...  6.91348e-06   8.01229e-06\n",
       "19  000844b52dee5f3f   0.00655249  ...  0.000480592   0.000288814\n",
       "20  00084da5d4ead7aa    0.0313383  ...   0.00319803    0.00174883\n",
       "21  00091c35fa9d0465    0.0557198  ...    0.0057275    0.00333503\n",
       "22  000968ce11f5ee34    0.0856016  ...    0.0112788    0.00636089\n",
       "23  0009734200a85047  0.000207722  ...  7.95957e-06   1.19982e-05\n",
       "24  00097b6214686db5      0.12135  ...    0.0168875    0.00805178\n",
       "25  0009aef4bd9e1697    0.0022701  ...  0.000126094   0.000154257\n",
       "26  000a02d807ae0254   0.00550386  ...  0.000348091   0.000238597\n",
       "27  000a6c6d4e89b9bc   0.00745076  ...  0.000559688   0.000360817\n",
       "28  000bafe2080bba82     0.364515  ...     0.134376     0.0655603\n",
       "29  000bf0a9894b2807  0.000282198  ...   1.1205e-05   1.65722e-05\n",
       "\n",
       "[30 rows x 7 columns]"
      ]
     },
     "execution_count": 23,
     "metadata": {
      "tags": []
     },
     "output_type": "execute_result"
    }
   ],
   "source": [
    "subm.head(30)"
   ]
  }
 ],
 "metadata": {
  "colab": {
   "name": "Mini Project.ipynb",
   "provenance": []
  },
  "kernelspec": {
   "display_name": "Python 3",
   "language": "python",
   "name": "python3"
  },
  "language_info": {
   "codemirror_mode": {
    "name": "ipython",
    "version": 3
   },
   "file_extension": ".py",
   "mimetype": "text/x-python",
   "name": "python",
   "nbconvert_exporter": "python",
   "pygments_lexer": "ipython3",
   "version": "3.7.5"
  }
 },
 "nbformat": 4,
 "nbformat_minor": 1
}
